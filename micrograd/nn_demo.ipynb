{
 "cells": [
  {
   "cell_type": "code",
   "execution_count": null,
   "metadata": {},
   "outputs": [],
   "source": [
    "import nn\n",
    "from comp_graph import draw_dot\n",
    "\n",
    "\n",
    "# testing the Neuron class\n",
    "a = nn.Neuron(nin=3, nonlin='sigmoid')\n",
    "print(a.parameters(), end='\\n\\n')\n",
    "\n",
    "f = a([1, 2, 3])  # Forward pass\n",
    "print(f, end='\\n\\n')\n",
    "\n",
    "f.backward()\n",
    "print(f.debug())\n",
    "\n",
    "draw_dot(f)"
   ]
  },
  {
   "cell_type": "code",
   "execution_count": null,
   "metadata": {},
   "outputs": [],
   "source": [
    "# testing the Layer class\n",
    "layer = nn.Layer(nin=3, nout=2, nonlin='sigmoid')\n",
    "print(layer.parameters(), end='\\n\\n')\n",
    "\n",
    "f = layer([1, 2, 3])  # Forward pass\n",
    "\n",
    "print(f, end='\\n\\n')\n",
    "layer"
   ]
  },
  {
   "cell_type": "code",
   "execution_count": null,
   "metadata": {},
   "outputs": [],
   "source": [
    "# testing the Network class\n",
    "net = nn.MLP(nin=3, nouts=[5, 6, 2])\n",
    "net"
   ]
  }
 ],
 "metadata": {
  "kernelspec": {
   "display_name": ".venv",
   "language": "python",
   "name": "python3"
  },
  "language_info": {
   "codemirror_mode": {
    "name": "ipython",
    "version": 3
   },
   "file_extension": ".py",
   "mimetype": "text/x-python",
   "name": "python",
   "nbconvert_exporter": "python",
   "pygments_lexer": "ipython3",
   "version": "3.10.12"
  }
 },
 "nbformat": 4,
 "nbformat_minor": 2
}
